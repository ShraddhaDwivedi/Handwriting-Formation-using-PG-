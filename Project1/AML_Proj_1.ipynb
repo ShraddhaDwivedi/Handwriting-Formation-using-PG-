{
 "cells": [
  {
   "cell_type": "code",
   "execution_count": 189,
   "metadata": {},
   "outputs": [],
   "source": [
    "import math\n",
    "import numpy as np\n",
    "import pandas as pd\n",
    "import matplotlib.pyplot as plt\n",
    "%matplotlib inline\n"
   ]
  },
  {
   "cell_type": "code",
   "execution_count": 190,
   "metadata": {},
   "outputs": [],
   "source": [
    "table2 = pd.read_csv(\"B:/UB_Notes/Spring'19/CSE674_AML/Project1/Table2.csv\") \n",
    "table3 = pd.read_csv(\"B:/UB_Notes/Spring'19/CSE674_AML/Project1/Table3.csv\") \n",
    "table4 = pd.read_csv(\"B:/UB_Notes/Spring'19/CSE674_AML/Project1/Table4.csv\") \n",
    "table5 = pd.read_csv(\"B:/UB_Notes/Spring'19/CSE674_AML/Project1/Table5.csv\") \n",
    "table6 = pd.read_csv(\"B:/UB_Notes/Spring'19/CSE674_AML/Project1/Table6.csv\") \n",
    "table7 = pd.read_csv(\"B:/UB_Notes/Spring'19/CSE674_AML/Project1/Table7.csv\") \n",
    "table8 = pd.read_csv(\"B:/UB_Notes/Spring'19/CSE674_AML/Project1/Table8.csv\") "
   ]
  },
  {
   "cell_type": "markdown",
   "metadata": {},
   "source": [
    "# Task 1"
   ]
  },
  {
   "cell_type": "code",
   "execution_count": 191,
   "metadata": {},
   "outputs": [
    {
     "data": {
      "text/html": [
       "<div>\n",
       "<style scoped>\n",
       "    .dataframe tbody tr th:only-of-type {\n",
       "        vertical-align: middle;\n",
       "    }\n",
       "\n",
       "    .dataframe tbody tr th {\n",
       "        vertical-align: top;\n",
       "    }\n",
       "\n",
       "    .dataframe thead th {\n",
       "        text-align: right;\n",
       "    }\n",
       "</style>\n",
       "<table border=\"1\" class=\"dataframe\">\n",
       "  <thead>\n",
       "    <tr style=\"text-align: right;\">\n",
       "      <th></th>\n",
       "      <th>Values</th>\n",
       "      <th>x1 (Relative height to t to h)</th>\n",
       "      <th>x2 (Shape of h loop)</th>\n",
       "      <th>x3 (Shape of h arch)</th>\n",
       "      <th>x4 (Height of Cross )</th>\n",
       "      <th>x5 (Baseline of h)</th>\n",
       "      <th>x6 (Shape of t)</th>\n",
       "    </tr>\n",
       "  </thead>\n",
       "  <tbody>\n",
       "    <tr>\n",
       "      <th>0</th>\n",
       "      <td>a = x0</td>\n",
       "      <td>78% (156)</td>\n",
       "      <td>27.5%(55)</td>\n",
       "      <td>18%(36)</td>\n",
       "      <td>71.5%(143)</td>\n",
       "      <td>37.5%(75)</td>\n",
       "      <td>1.5%(3)</td>\n",
       "    </tr>\n",
       "    <tr>\n",
       "      <th>1</th>\n",
       "      <td>b = x1</td>\n",
       "      <td>1.5%(3)</td>\n",
       "      <td>32%(64)</td>\n",
       "      <td>66%(132)</td>\n",
       "      <td>10.5%(21)</td>\n",
       "      <td>11%(22)</td>\n",
       "      <td>32%(64)</td>\n",
       "    </tr>\n",
       "    <tr>\n",
       "      <th>2</th>\n",
       "      <td>c = x2</td>\n",
       "      <td>5.5%(11)</td>\n",
       "      <td>2.5% (5)</td>\n",
       "      <td>16%(32)</td>\n",
       "      <td>1%(2)</td>\n",
       "      <td>10.5%(21)</td>\n",
       "      <td>14%(28)</td>\n",
       "    </tr>\n",
       "    <tr>\n",
       "      <th>3</th>\n",
       "      <td>d = x3</td>\n",
       "      <td>15%(30)</td>\n",
       "      <td>17%(34)</td>\n",
       "      <td>NaN</td>\n",
       "      <td>17%(34)</td>\n",
       "      <td>41%(82)</td>\n",
       "      <td>31.5%(63)</td>\n",
       "    </tr>\n",
       "    <tr>\n",
       "      <th>4</th>\n",
       "      <td>e = x4</td>\n",
       "      <td>NaN</td>\n",
       "      <td>21%(42)</td>\n",
       "      <td>NaN</td>\n",
       "      <td>NaN</td>\n",
       "      <td>NaN</td>\n",
       "      <td>21%(42)</td>\n",
       "    </tr>\n",
       "  </tbody>\n",
       "</table>\n",
       "</div>"
      ],
      "text/plain": [
       "   Values x1 (Relative height to t to h) x2 (Shape of h loop)  \\\n",
       "0  a = x0                      78% (156)            27.5%(55)   \n",
       "1  b = x1                        1.5%(3)              32%(64)   \n",
       "2  c = x2                       5.5%(11)             2.5% (5)   \n",
       "3  d = x3                        15%(30)              17%(34)   \n",
       "4  e = x4                            NaN              21%(42)   \n",
       "\n",
       "  x3 (Shape of h arch) x4 (Height of Cross ) x5 (Baseline of h)  \\\n",
       "0              18%(36)            71.5%(143)          37.5%(75)   \n",
       "1             66%(132)             10.5%(21)            11%(22)   \n",
       "2              16%(32)                 1%(2)          10.5%(21)   \n",
       "3                  NaN               17%(34)            41%(82)   \n",
       "4                  NaN                   NaN                NaN   \n",
       "\n",
       "  x6 (Shape of t)  \n",
       "0         1.5%(3)  \n",
       "1         32%(64)  \n",
       "2         14%(28)  \n",
       "3       31.5%(63)  \n",
       "4         21%(42)  "
      ]
     },
     "execution_count": 191,
     "metadata": {},
     "output_type": "execute_result"
    }
   ],
   "source": [
    "table2"
   ]
  },
  {
   "cell_type": "code",
   "execution_count": 192,
   "metadata": {},
   "outputs": [],
   "source": [
    "p=[[78,1.5,5.5,15],[27.5,32,2.5,17,21],[18,66,16],[71.5,10.5,1,17],[37.5,11,10.5,41],[1.5,32,14,31.5,21]]\n"
   ]
  },
  {
   "cell_type": "markdown",
   "metadata": {},
   "source": [
    "# Calculating p(x2|x1), p(x4|x1) and p(x6|x1)"
   ]
  },
  {
   "cell_type": "code",
   "execution_count": 193,
   "metadata": {},
   "outputs": [
    {
     "data": {
      "text/html": [
       "<div>\n",
       "<style scoped>\n",
       "    .dataframe tbody tr th:only-of-type {\n",
       "        vertical-align: middle;\n",
       "    }\n",
       "\n",
       "    .dataframe tbody tr th {\n",
       "        vertical-align: top;\n",
       "    }\n",
       "\n",
       "    .dataframe thead th {\n",
       "        text-align: right;\n",
       "    }\n",
       "</style>\n",
       "<table border=\"1\" class=\"dataframe\">\n",
       "  <thead>\n",
       "    <tr style=\"text-align: right;\">\n",
       "      <th></th>\n",
       "      <th>x1</th>\n",
       "      <th>x01 (t shorter than h)</th>\n",
       "      <th>x11 (t even with h)</th>\n",
       "      <th>x21 (t taller than h)</th>\n",
       "      <th>x31 (No set pattern)</th>\n",
       "    </tr>\n",
       "  </thead>\n",
       "  <tbody>\n",
       "    <tr>\n",
       "      <th>0</th>\n",
       "      <td>Total</td>\n",
       "      <td>78%(156)</td>\n",
       "      <td>1.5%(3)</td>\n",
       "      <td>5.5%(11)</td>\n",
       "      <td>15%(30)</td>\n",
       "    </tr>\n",
       "    <tr>\n",
       "      <th>1</th>\n",
       "      <td>x02 (retraced staff)</td>\n",
       "      <td>23.1%(36)</td>\n",
       "      <td>66.6%(2)</td>\n",
       "      <td>45.5%(5)</td>\n",
       "      <td>40%(12)</td>\n",
       "    </tr>\n",
       "    <tr>\n",
       "      <th>2</th>\n",
       "      <td>x12 (curved right)</td>\n",
       "      <td>36.5%(57)</td>\n",
       "      <td>0%(0)</td>\n",
       "      <td>9.1%(1)</td>\n",
       "      <td>20%(6)</td>\n",
       "    </tr>\n",
       "    <tr>\n",
       "      <th>3</th>\n",
       "      <td>x22 (curved left)</td>\n",
       "      <td>2.6%(4)</td>\n",
       "      <td>0%(0)</td>\n",
       "      <td>0%(0)</td>\n",
       "      <td>3.3%(1)</td>\n",
       "    </tr>\n",
       "    <tr>\n",
       "      <th>4</th>\n",
       "      <td>x32 (both curved)</td>\n",
       "      <td>17.3%(27)</td>\n",
       "      <td>0%(0)</td>\n",
       "      <td>18.2%(2)</td>\n",
       "      <td>16.7%(5)</td>\n",
       "    </tr>\n",
       "    <tr>\n",
       "      <th>5</th>\n",
       "      <td>x42 (no pattern)</td>\n",
       "      <td>20.5%(32)</td>\n",
       "      <td>33.3%(1)</td>\n",
       "      <td>27.3%(3)</td>\n",
       "      <td>20%(6)</td>\n",
       "    </tr>\n",
       "    <tr>\n",
       "      <th>6</th>\n",
       "      <td>x04 (upper staff)</td>\n",
       "      <td>73.7%(115)</td>\n",
       "      <td>100%(3)</td>\n",
       "      <td>72.7%(8)</td>\n",
       "      <td>56.7%(17)</td>\n",
       "    </tr>\n",
       "    <tr>\n",
       "      <th>7</th>\n",
       "      <td>x14 (lower staff)</td>\n",
       "      <td>7.7%(12)</td>\n",
       "      <td>0%(0)</td>\n",
       "      <td>27.3%(3)</td>\n",
       "      <td>20%(6)</td>\n",
       "    </tr>\n",
       "    <tr>\n",
       "      <th>8</th>\n",
       "      <td>x24 (above staff)</td>\n",
       "      <td>1.3%(2)</td>\n",
       "      <td>0%(0)</td>\n",
       "      <td>0%(0)</td>\n",
       "      <td>0%(0)</td>\n",
       "    </tr>\n",
       "    <tr>\n",
       "      <th>9</th>\n",
       "      <td>x34 (no pattern)</td>\n",
       "      <td>17.3%(27)</td>\n",
       "      <td>0%(0)</td>\n",
       "      <td>0%(0)</td>\n",
       "      <td>23.3%(7)</td>\n",
       "    </tr>\n",
       "    <tr>\n",
       "      <th>10</th>\n",
       "      <td>x06 (tented t)</td>\n",
       "      <td>1.9%(3)</td>\n",
       "      <td>0%(0)</td>\n",
       "      <td>0%(0)</td>\n",
       "      <td>0%(0)</td>\n",
       "    </tr>\n",
       "    <tr>\n",
       "      <th>11</th>\n",
       "      <td>x16 (single stroke t)</td>\n",
       "      <td>28.2%(44)</td>\n",
       "      <td>66.6%(2)</td>\n",
       "      <td>54.5%(6)</td>\n",
       "      <td>40%(12)</td>\n",
       "    </tr>\n",
       "    <tr>\n",
       "      <th>12</th>\n",
       "      <td>x26 (looped t)</td>\n",
       "      <td>12.8%(20)</td>\n",
       "      <td>33.3%(1)</td>\n",
       "      <td>9.1%(1)</td>\n",
       "      <td>20%(6)</td>\n",
       "    </tr>\n",
       "    <tr>\n",
       "      <th>13</th>\n",
       "      <td>x36 (closed t)</td>\n",
       "      <td>35.2%(55)</td>\n",
       "      <td>0%(0)</td>\n",
       "      <td>18.2%(2)</td>\n",
       "      <td>20%(6)</td>\n",
       "    </tr>\n",
       "    <tr>\n",
       "      <th>14</th>\n",
       "      <td>x46 (mixed shapes)</td>\n",
       "      <td>21.8%(34)</td>\n",
       "      <td>0%(0)</td>\n",
       "      <td>18.2%(2)</td>\n",
       "      <td>20%(6)</td>\n",
       "    </tr>\n",
       "  </tbody>\n",
       "</table>\n",
       "</div>"
      ],
      "text/plain": [
       "                        x1 x01 (t shorter than h) x11 (t even with h)  \\\n",
       "0                    Total               78%(156)             1.5%(3)   \n",
       "1    x02 (retraced staff)               23.1%(36)            66.6%(2)   \n",
       "2      x12 (curved right)               36.5%(57)               0%(0)   \n",
       "3        x22 (curved left)                2.6%(4)               0%(0)   \n",
       "4        x32 (both curved)              17.3%(27)               0%(0)   \n",
       "5         x42 (no pattern)              20.5%(32)            33.3%(1)   \n",
       "6       x04 (upper staff)              73.7%(115)             100%(3)   \n",
       "7       x14 (lower staff)                7.7%(12)               0%(0)   \n",
       "8       x24 (above staff)                 1.3%(2)               0%(0)   \n",
       "9         x34 (no pattern)              17.3%(27)               0%(0)   \n",
       "10         x06 (tented t)                 1.9%(3)               0%(0)   \n",
       "11  x16 (single stroke t)               28.2%(44)            66.6%(2)   \n",
       "12         x26 (looped t)               12.8%(20)            33.3%(1)   \n",
       "13          x36 (closed t)              35.2%(55)               0%(0)   \n",
       "14     x46 (mixed shapes)               21.8%(34)               0%(0)   \n",
       "\n",
       "   x21 (t taller than h) x31 (No set pattern)  \n",
       "0               5.5%(11)              15%(30)  \n",
       "1               45.5%(5)              40%(12)  \n",
       "2                9.1%(1)               20%(6)  \n",
       "3                  0%(0)              3.3%(1)  \n",
       "4               18.2%(2)             16.7%(5)  \n",
       "5               27.3%(3)               20%(6)  \n",
       "6               72.7%(8)            56.7%(17)  \n",
       "7               27.3%(3)               20%(6)  \n",
       "8                  0%(0)                0%(0)  \n",
       "9                  0%(0)             23.3%(7)  \n",
       "10                 0%(0)                0%(0)  \n",
       "11              54.5%(6)              40%(12)  \n",
       "12               9.1%(1)               20%(6)  \n",
       "13              18.2%(2)               20%(6)  \n",
       "14              18.2%(2)               20%(6)  "
      ]
     },
     "execution_count": 193,
     "metadata": {},
     "output_type": "execute_result"
    }
   ],
   "source": [
    "table3"
   ]
  },
  {
   "cell_type": "code",
   "execution_count": 194,
   "metadata": {},
   "outputs": [],
   "source": [
    "px21=[[23.1,66.6,45.5,40],[36.5,0,9.1,20],[2.6,0,0,3.3],[17.3,0,18.2,16.7],[20.5,33.3,27.3,20]]\n",
    "px41=[[73.7,100,72.7,56.7],[7.7,0,27.3,20],[1.3,0,0,0],[17.3,0,0,23.3]]\n",
    "px61=[[1.9,0,0,0],[28.2,66.6,54.5,40],[12.8,33.3,9.1,20],[35.2,0,18.2,20],[21.8,0,18.2,20]]"
   ]
  },
  {
   "cell_type": "code",
   "execution_count": 195,
   "metadata": {},
   "outputs": [
    {
     "name": "stdout",
     "output_type": "stream",
     "text": [
      "0.15976999999999994\n"
     ]
    }
   ],
   "source": [
    "sum=0\n",
    "for i in range(0,5):\n",
    "    for j in range(0,4):\n",
    "        sum+=abs(px21[i][j]*p[0][j]-p[1][i]*p[0][j])/10000\n",
    "print(sum)"
   ]
  },
  {
   "cell_type": "code",
   "execution_count": 196,
   "metadata": {},
   "outputs": [
    {
     "name": "stdout",
     "output_type": "stream",
     "text": [
      "0.11943000000000004\n"
     ]
    }
   ],
   "source": [
    "sum=0\n",
    "for i in range(0,4):\n",
    "    for j in range(0,4):\n",
    "        sum+=abs(px41[i][j]*p[0][j]-p[3][i]*p[0][j])/10000\n",
    "print(sum)"
   ]
  },
  {
   "cell_type": "code",
   "execution_count": 197,
   "metadata": {},
   "outputs": [
    {
     "name": "stdout",
     "output_type": "stream",
     "text": [
      "0.16015500000000002\n"
     ]
    }
   ],
   "source": [
    "sum=0\n",
    "for i in range(0,5):\n",
    "    for j in range(0,4):\n",
    "        sum+=abs(px61[i][j]*p[0][j]-p[5][i]*p[0][j])/10000\n",
    "print(sum)"
   ]
  },
  {
   "cell_type": "markdown",
   "metadata": {},
   "source": [
    "# Calculating p(x3|x2) and p(x5|x2)¶"
   ]
  },
  {
   "cell_type": "code",
   "execution_count": 198,
   "metadata": {},
   "outputs": [
    {
     "data": {
      "text/html": [
       "<div>\n",
       "<style scoped>\n",
       "    .dataframe tbody tr th:only-of-type {\n",
       "        vertical-align: middle;\n",
       "    }\n",
       "\n",
       "    .dataframe tbody tr th {\n",
       "        vertical-align: top;\n",
       "    }\n",
       "\n",
       "    .dataframe thead th {\n",
       "        text-align: right;\n",
       "    }\n",
       "</style>\n",
       "<table border=\"1\" class=\"dataframe\">\n",
       "  <thead>\n",
       "    <tr style=\"text-align: right;\">\n",
       "      <th></th>\n",
       "      <th>x2</th>\n",
       "      <th>x02 (retraced staff)</th>\n",
       "      <th>x12 (curved right)</th>\n",
       "      <th>x22 (curved left)</th>\n",
       "      <th>x32 (both curved)</th>\n",
       "      <th>x42 (no pattern)</th>\n",
       "    </tr>\n",
       "  </thead>\n",
       "  <tbody>\n",
       "    <tr>\n",
       "      <th>0</th>\n",
       "      <td>Total</td>\n",
       "      <td>27.5%(55)</td>\n",
       "      <td>32%(64)</td>\n",
       "      <td>2.5%(5)</td>\n",
       "      <td>17%(34</td>\n",
       "      <td>21%(42)</td>\n",
       "    </tr>\n",
       "    <tr>\n",
       "      <th>1</th>\n",
       "      <td>x03 (rounded arch)</td>\n",
       "      <td>12.7%(7)</td>\n",
       "      <td>26.6%(17)</td>\n",
       "      <td>20%(1)</td>\n",
       "      <td>17.6%(6)</td>\n",
       "      <td>11.9%(5)</td>\n",
       "    </tr>\n",
       "    <tr>\n",
       "      <th>2</th>\n",
       "      <td>x13 (pointed arch)</td>\n",
       "      <td>74.5%(41)</td>\n",
       "      <td>65.6%(42)</td>\n",
       "      <td>80%(4)</td>\n",
       "      <td>70.6%(24)</td>\n",
       "      <td>50%(21)</td>\n",
       "    </tr>\n",
       "    <tr>\n",
       "      <th>3</th>\n",
       "      <td>x23 (no pattern)</td>\n",
       "      <td>12.7%(7)</td>\n",
       "      <td>7.8%(5)</td>\n",
       "      <td>0%(0)</td>\n",
       "      <td>11.8%(4)</td>\n",
       "      <td>38.1%(16)</td>\n",
       "    </tr>\n",
       "    <tr>\n",
       "      <th>4</th>\n",
       "      <td>x05 (upward)</td>\n",
       "      <td>41.8%(23)</td>\n",
       "      <td>33.4%(22)</td>\n",
       "      <td>60%(3)</td>\n",
       "      <td>38.2%(13)</td>\n",
       "      <td>33.4%(14)</td>\n",
       "    </tr>\n",
       "    <tr>\n",
       "      <th>5</th>\n",
       "      <td>x15 (downward)</td>\n",
       "      <td>7.3%(4)</td>\n",
       "      <td>10.9%(7)</td>\n",
       "      <td>40%(2)</td>\n",
       "      <td>14.7%(5)</td>\n",
       "      <td>9.5%(4)</td>\n",
       "    </tr>\n",
       "    <tr>\n",
       "      <th>6</th>\n",
       "      <td>x25 (even)</td>\n",
       "      <td>10.9%(6)</td>\n",
       "      <td>12.5%(8)</td>\n",
       "      <td>0%(0)</td>\n",
       "      <td>11.8%(4)</td>\n",
       "      <td>7.1%(3)</td>\n",
       "    </tr>\n",
       "    <tr>\n",
       "      <th>7</th>\n",
       "      <td>x35 (no pattern)</td>\n",
       "      <td>40%(22)</td>\n",
       "      <td>42.2%(27)</td>\n",
       "      <td>0%(0)</td>\n",
       "      <td>35.3%(12)</td>\n",
       "      <td>50%(21)</td>\n",
       "    </tr>\n",
       "  </tbody>\n",
       "</table>\n",
       "</div>"
      ],
      "text/plain": [
       "                   x2 x02 (retraced staff) x12 (curved right)  \\\n",
       "0               Total            27.5%(55)            32%(64)   \n",
       "1  x03 (rounded arch)             12.7%(7)          26.6%(17)   \n",
       "2  x13 (pointed arch)            74.5%(41)          65.6%(42)   \n",
       "3    x23 (no pattern)             12.7%(7)            7.8%(5)   \n",
       "4        x05 (upward)            41.8%(23)          33.4%(22)   \n",
       "5      x15 (downward)              7.3%(4)           10.9%(7)   \n",
       "6          x25 (even)             10.9%(6)           12.5%(8)   \n",
       "7    x35 (no pattern)              40%(22)          42.2%(27)   \n",
       "\n",
       "  x22 (curved left) x32 (both curved) x42 (no pattern)  \n",
       "0           2.5%(5)            17%(34          21%(42)  \n",
       "1            20%(1)          17.6%(6)         11.9%(5)  \n",
       "2            80%(4)         70.6%(24)          50%(21)  \n",
       "3             0%(0)          11.8%(4)        38.1%(16)  \n",
       "4            60%(3)         38.2%(13)        33.4%(14)  \n",
       "5            40%(2)          14.7%(5)          9.5%(4)  \n",
       "6             0%(0)          11.8%(4)          7.1%(3)  \n",
       "7             0%(0)         35.3%(12)          50%(21)  "
      ]
     },
     "execution_count": 198,
     "metadata": {},
     "output_type": "execute_result"
    }
   ],
   "source": [
    "table4"
   ]
  },
  {
   "cell_type": "code",
   "execution_count": 199,
   "metadata": {},
   "outputs": [],
   "source": [
    "px32=[[12.7,26.6,20,17.6,11.9],[74.5,65.6,80,70.6,50],[12.7,7.8,0,11.8,38.1]]\n",
    "px52=[[41.8,33.4,60,38.2,33.4],[7.3,10.9,40,14.7,9.5],[10.9,12.5,0,11.8,7.1],[40,42.2,0,35.3,50]]"
   ]
  },
  {
   "cell_type": "code",
   "execution_count": 200,
   "metadata": {},
   "outputs": [
    {
     "name": "stdout",
     "output_type": "stream",
     "text": [
      "0.218525\n"
     ]
    }
   ],
   "source": [
    "sum=0\n",
    "for i in range(0,3):\n",
    "    for j in range(0,5):\n",
    "        sum+=abs(px32[i][j]*p[1][j]-p[2][i]*p[1][j])/10000\n",
    "print(sum)"
   ]
  },
  {
   "cell_type": "code",
   "execution_count": 201,
   "metadata": {},
   "outputs": [
    {
     "name": "stdout",
     "output_type": "stream",
     "text": [
      "0.13246000000000002\n"
     ]
    }
   ],
   "source": [
    "sum=0\n",
    "for i in range(0,4):\n",
    "    for j in range(0,5):\n",
    "        sum+=abs(px52[i][j]*p[1][j]-p[4][i]*p[1][j])/10000\n",
    "print(sum)"
   ]
  },
  {
   "cell_type": "markdown",
   "metadata": {},
   "source": [
    "# Calculating p(x2|x3), p(x5|x3), and p(x6|x3)"
   ]
  },
  {
   "cell_type": "code",
   "execution_count": 202,
   "metadata": {},
   "outputs": [
    {
     "data": {
      "text/html": [
       "<div>\n",
       "<style scoped>\n",
       "    .dataframe tbody tr th:only-of-type {\n",
       "        vertical-align: middle;\n",
       "    }\n",
       "\n",
       "    .dataframe tbody tr th {\n",
       "        vertical-align: top;\n",
       "    }\n",
       "\n",
       "    .dataframe thead th {\n",
       "        text-align: right;\n",
       "    }\n",
       "</style>\n",
       "<table border=\"1\" class=\"dataframe\">\n",
       "  <thead>\n",
       "    <tr style=\"text-align: right;\">\n",
       "      <th></th>\n",
       "      <th>x3</th>\n",
       "      <th>x03 (rounded arch)</th>\n",
       "      <th>x13 (pointed arch)</th>\n",
       "      <th>x23 (no pattern)</th>\n",
       "    </tr>\n",
       "  </thead>\n",
       "  <tbody>\n",
       "    <tr>\n",
       "      <th>0</th>\n",
       "      <td>Total</td>\n",
       "      <td>18%(36)</td>\n",
       "      <td>66%(132)</td>\n",
       "      <td>16%(32)</td>\n",
       "    </tr>\n",
       "    <tr>\n",
       "      <th>1</th>\n",
       "      <td>x02 (retraced staff)</td>\n",
       "      <td>19.4%(7)</td>\n",
       "      <td>31.1%(41)</td>\n",
       "      <td>21.9%(7)</td>\n",
       "    </tr>\n",
       "    <tr>\n",
       "      <th>2</th>\n",
       "      <td>x12 (curved right)</td>\n",
       "      <td>47.2%(17)</td>\n",
       "      <td>31.8%(42)</td>\n",
       "      <td>15.6%(5)</td>\n",
       "    </tr>\n",
       "    <tr>\n",
       "      <th>3</th>\n",
       "      <td>x22 (curved left)</td>\n",
       "      <td>2.8%(1)</td>\n",
       "      <td>3.03%(4)</td>\n",
       "      <td>0%(0)</td>\n",
       "    </tr>\n",
       "    <tr>\n",
       "      <th>4</th>\n",
       "      <td>x32 (both curved)</td>\n",
       "      <td>16.7%(6)</td>\n",
       "      <td>18.2%(24)</td>\n",
       "      <td>12.5%(4)</td>\n",
       "    </tr>\n",
       "    <tr>\n",
       "      <th>5</th>\n",
       "      <td>x42 (no pattern)</td>\n",
       "      <td>13.9%(5)</td>\n",
       "      <td>15.9%(21)</td>\n",
       "      <td>50%(16)</td>\n",
       "    </tr>\n",
       "    <tr>\n",
       "      <th>6</th>\n",
       "      <td>x05 (upward)</td>\n",
       "      <td>36.1%(13)</td>\n",
       "      <td>39.4%(52)</td>\n",
       "      <td>31.3%(10)</td>\n",
       "    </tr>\n",
       "    <tr>\n",
       "      <th>7</th>\n",
       "      <td>x15 (downward)</td>\n",
       "      <td>8.3%(3)</td>\n",
       "      <td>11.4%(15)</td>\n",
       "      <td>12.5%(4)</td>\n",
       "    </tr>\n",
       "    <tr>\n",
       "      <th>8</th>\n",
       "      <td>x25 (even)</td>\n",
       "      <td>22.2%(8)</td>\n",
       "      <td>9.1%(12)</td>\n",
       "      <td>3.1%(1)</td>\n",
       "    </tr>\n",
       "    <tr>\n",
       "      <th>9</th>\n",
       "      <td>x35 (no pattern)</td>\n",
       "      <td>33.3%(12)</td>\n",
       "      <td>40.2%(53)</td>\n",
       "      <td>53.1%(17)</td>\n",
       "    </tr>\n",
       "    <tr>\n",
       "      <th>10</th>\n",
       "      <td>x06 (tented t)</td>\n",
       "      <td>0%(0)</td>\n",
       "      <td>2.3%(3)</td>\n",
       "      <td>0%(0)</td>\n",
       "    </tr>\n",
       "    <tr>\n",
       "      <th>11</th>\n",
       "      <td>x16 (single stroke t)</td>\n",
       "      <td>38.9%(14)</td>\n",
       "      <td>31.8%(42)</td>\n",
       "      <td>25%(8)</td>\n",
       "    </tr>\n",
       "    <tr>\n",
       "      <th>12</th>\n",
       "      <td>x26 (looped t)</td>\n",
       "      <td>8.3%(3)</td>\n",
       "      <td>15.2%(20)</td>\n",
       "      <td>15.6%(5)</td>\n",
       "    </tr>\n",
       "    <tr>\n",
       "      <th>13</th>\n",
       "      <td>x36 (closed t)</td>\n",
       "      <td>36.1%(13)</td>\n",
       "      <td>30.3%(40)</td>\n",
       "      <td>20.3%(10)</td>\n",
       "    </tr>\n",
       "    <tr>\n",
       "      <th>14</th>\n",
       "      <td>x46 (mixed t shapes)</td>\n",
       "      <td>16.7%(6)</td>\n",
       "      <td>20.4%(27)</td>\n",
       "      <td>28.1%(9)</td>\n",
       "    </tr>\n",
       "  </tbody>\n",
       "</table>\n",
       "</div>"
      ],
      "text/plain": [
       "                       x3 x03 (rounded arch) x13 (pointed arch)  \\\n",
       "0                   Total            18%(36)           66%(132)   \n",
       "1    x02 (retraced staff)           19.4%(7)          31.1%(41)   \n",
       "2      x12 (curved right)          47.2%(17)          31.8%(42)   \n",
       "3       x22 (curved left)            2.8%(1)           3.03%(4)   \n",
       "4       x32 (both curved)           16.7%(6)          18.2%(24)   \n",
       "5        x42 (no pattern)           13.9%(5)          15.9%(21)   \n",
       "6            x05 (upward)          36.1%(13)          39.4%(52)   \n",
       "7          x15 (downward)            8.3%(3)          11.4%(15)   \n",
       "8              x25 (even)           22.2%(8)           9.1%(12)   \n",
       "9        x35 (no pattern)          33.3%(12)          40.2%(53)   \n",
       "10         x06 (tented t)              0%(0)            2.3%(3)   \n",
       "11  x16 (single stroke t)          38.9%(14)          31.8%(42)   \n",
       "12         x26 (looped t)            8.3%(3)          15.2%(20)   \n",
       "13         x36 (closed t)          36.1%(13)          30.3%(40)   \n",
       "14   x46 (mixed t shapes)           16.7%(6)          20.4%(27)   \n",
       "\n",
       "   x23 (no pattern)  \n",
       "0           16%(32)  \n",
       "1          21.9%(7)  \n",
       "2          15.6%(5)  \n",
       "3             0%(0)  \n",
       "4          12.5%(4)  \n",
       "5           50%(16)  \n",
       "6         31.3%(10)  \n",
       "7          12.5%(4)  \n",
       "8           3.1%(1)  \n",
       "9         53.1%(17)  \n",
       "10            0%(0)  \n",
       "11           25%(8)  \n",
       "12         15.6%(5)  \n",
       "13        20.3%(10)  \n",
       "14         28.1%(9)  "
      ]
     },
     "execution_count": 202,
     "metadata": {},
     "output_type": "execute_result"
    }
   ],
   "source": [
    "table5"
   ]
  },
  {
   "cell_type": "code",
   "execution_count": 203,
   "metadata": {},
   "outputs": [],
   "source": [
    "px23=[[19.4,31.1,21.9],[47.2,31.8,15.6],[2.8,3.03,0],[16.7,18.2,12.5],[13.9,15.9,50]]\n",
    "px53=[[36.1,39.4,31.3],[8.3,11.4,12.5],[22.2,9.1,3.1],[33.3,40.2,53.1]]\n",
    "px63=[[0,2.3,0],[38.9,31.8,25],[8.3,15.2,15.6],[36.1,30.3,30.3],[16.7,20.5,28.1]]"
   ]
  },
  {
   "cell_type": "code",
   "execution_count": 204,
   "metadata": {},
   "outputs": [
    {
     "name": "stdout",
     "output_type": "stream",
     "text": [
      "0.21875799999999998\n"
     ]
    }
   ],
   "source": [
    "sum=0\n",
    "for i in range(0,5):\n",
    "    for j in range(0,3):\n",
    "        sum+=abs(px23[i][j]*p[2][j]-p[1][i]*p[2][j])/10000\n",
    "print(sum)"
   ]
  },
  {
   "cell_type": "code",
   "execution_count": 205,
   "metadata": {},
   "outputs": [
    {
     "name": "stdout",
     "output_type": "stream",
     "text": [
      "0.11551999999999997\n"
     ]
    }
   ],
   "source": [
    "sum=0\n",
    "for i in range(0,4):\n",
    "    for j in range(0,3):\n",
    "        sum+=abs(px53[i][j]*p[2][j]-p[4][i]*p[2][j])/10000\n",
    "print(sum)"
   ]
  },
  {
   "cell_type": "code",
   "execution_count": 206,
   "metadata": {},
   "outputs": [
    {
     "name": "stdout",
     "output_type": "stream",
     "text": [
      "0.09658\n"
     ]
    }
   ],
   "source": [
    "sum=0\n",
    "for i in range(0,5):\n",
    "    for j in range(0,3):\n",
    "        sum+=abs(px63[i][j]*p[2][j]-p[5][i]*p[2][j])/10000\n",
    "print(sum)"
   ]
  },
  {
   "cell_type": "markdown",
   "metadata": {},
   "source": [
    "# Calculating p(x1|x4), p(x2|x4) and p(x6|x4)"
   ]
  },
  {
   "cell_type": "code",
   "execution_count": 207,
   "metadata": {},
   "outputs": [
    {
     "data": {
      "text/html": [
       "<div>\n",
       "<style scoped>\n",
       "    .dataframe tbody tr th:only-of-type {\n",
       "        vertical-align: middle;\n",
       "    }\n",
       "\n",
       "    .dataframe tbody tr th {\n",
       "        vertical-align: top;\n",
       "    }\n",
       "\n",
       "    .dataframe thead th {\n",
       "        text-align: right;\n",
       "    }\n",
       "</style>\n",
       "<table border=\"1\" class=\"dataframe\">\n",
       "  <thead>\n",
       "    <tr style=\"text-align: right;\">\n",
       "      <th></th>\n",
       "      <th>x4</th>\n",
       "      <th>x04 (upper staff)</th>\n",
       "      <th>x14 (lower staff)</th>\n",
       "      <th>x24 (above staff)</th>\n",
       "      <th>x34 (no pattern)</th>\n",
       "    </tr>\n",
       "  </thead>\n",
       "  <tbody>\n",
       "    <tr>\n",
       "      <th>0</th>\n",
       "      <td>Total</td>\n",
       "      <td>71.5%(143)</td>\n",
       "      <td>10.5%(21)</td>\n",
       "      <td>1%(2)</td>\n",
       "      <td>17%(34)</td>\n",
       "    </tr>\n",
       "    <tr>\n",
       "      <th>1</th>\n",
       "      <td>x01 (t shorter than h)</td>\n",
       "      <td>80.4%(115)</td>\n",
       "      <td>57.1%(12)</td>\n",
       "      <td>100%(2)</td>\n",
       "      <td>79.4%(27)</td>\n",
       "    </tr>\n",
       "    <tr>\n",
       "      <th>2</th>\n",
       "      <td>x11 (t even with h)</td>\n",
       "      <td>2.1%(3)</td>\n",
       "      <td>0%(0)</td>\n",
       "      <td>0%(0)</td>\n",
       "      <td>0%(0)</td>\n",
       "    </tr>\n",
       "    <tr>\n",
       "      <th>3</th>\n",
       "      <td>x21 (t taller than h)</td>\n",
       "      <td>5.6%(8)</td>\n",
       "      <td>14.3%(3)</td>\n",
       "      <td>0%(0)</td>\n",
       "      <td>0%(0)</td>\n",
       "    </tr>\n",
       "    <tr>\n",
       "      <th>4</th>\n",
       "      <td>x31 (no set pattern)</td>\n",
       "      <td>11.9%(17)</td>\n",
       "      <td>28.6%(6)</td>\n",
       "      <td>0%(0)</td>\n",
       "      <td>20.6%(7)</td>\n",
       "    </tr>\n",
       "    <tr>\n",
       "      <th>5</th>\n",
       "      <td>x02 (retraced staff)</td>\n",
       "      <td>30.8%(44)</td>\n",
       "      <td>23.8%(5)</td>\n",
       "      <td>0%(0)</td>\n",
       "      <td>17.6%(6)</td>\n",
       "    </tr>\n",
       "    <tr>\n",
       "      <th>6</th>\n",
       "      <td>x12 (curved right)</td>\n",
       "      <td>32.2%(46)</td>\n",
       "      <td>28.6%(6)</td>\n",
       "      <td>100%(2)</td>\n",
       "      <td>32.3%(11)</td>\n",
       "    </tr>\n",
       "    <tr>\n",
       "      <th>7</th>\n",
       "      <td>x22 (curved left)</td>\n",
       "      <td>2.8%(4)</td>\n",
       "      <td>0%(0)</td>\n",
       "      <td>0%(0)</td>\n",
       "      <td>2.9%(1)</td>\n",
       "    </tr>\n",
       "    <tr>\n",
       "      <th>8</th>\n",
       "      <td>x32 (both curved)</td>\n",
       "      <td>15.4%(22)</td>\n",
       "      <td>19%(4)</td>\n",
       "      <td>0%(0)</td>\n",
       "      <td>23.5%(8)</td>\n",
       "    </tr>\n",
       "    <tr>\n",
       "      <th>9</th>\n",
       "      <td>x42 (no pattern)</td>\n",
       "      <td>19.6%(28)</td>\n",
       "      <td>28.6%(6)</td>\n",
       "      <td>0%(0)</td>\n",
       "      <td>23.5%(8)</td>\n",
       "    </tr>\n",
       "    <tr>\n",
       "      <th>10</th>\n",
       "      <td>x06 (tented t)</td>\n",
       "      <td>2.1%(3)</td>\n",
       "      <td>0%(0)</td>\n",
       "      <td>0%(0)</td>\n",
       "      <td>0%(0)</td>\n",
       "    </tr>\n",
       "    <tr>\n",
       "      <th>11</th>\n",
       "      <td>x16 (single stroke t)</td>\n",
       "      <td>28%(40)</td>\n",
       "      <td>57.1%(12)</td>\n",
       "      <td>0%(0)</td>\n",
       "      <td>35.3%(12)</td>\n",
       "    </tr>\n",
       "    <tr>\n",
       "      <th>12</th>\n",
       "      <td>x26 (looped t)</td>\n",
       "      <td>15.4%(22)</td>\n",
       "      <td>14.3%(3)</td>\n",
       "      <td>0%(0)</td>\n",
       "      <td>8.8%(3)</td>\n",
       "    </tr>\n",
       "    <tr>\n",
       "      <th>13</th>\n",
       "      <td>x36 (closed t)</td>\n",
       "      <td>32.9%(47)</td>\n",
       "      <td>19%(4)</td>\n",
       "      <td>50%(1)</td>\n",
       "      <td>32.3%(11)</td>\n",
       "    </tr>\n",
       "    <tr>\n",
       "      <th>14</th>\n",
       "      <td>x46 (mixed t)</td>\n",
       "      <td>21.7%(31)</td>\n",
       "      <td>9.5%(2)</td>\n",
       "      <td>50%(1)</td>\n",
       "      <td>23.5%(8)</td>\n",
       "    </tr>\n",
       "  </tbody>\n",
       "</table>\n",
       "</div>"
      ],
      "text/plain": [
       "                        x4 x04 (upper staff) x14 (lower staff)  \\\n",
       "0                    Total        71.5%(143)         10.5%(21)   \n",
       "1   x01 (t shorter than h)        80.4%(115)         57.1%(12)   \n",
       "2      x11 (t even with h)           2.1%(3)             0%(0)   \n",
       "3    x21 (t taller than h)           5.6%(8)          14.3%(3)   \n",
       "4     x31 (no set pattern)         11.9%(17)          28.6%(6)   \n",
       "5     x02 (retraced staff)         30.8%(44)          23.8%(5)   \n",
       "6       x12 (curved right)         32.2%(46)          28.6%(6)   \n",
       "7        x22 (curved left)           2.8%(4)             0%(0)   \n",
       "8        x32 (both curved)         15.4%(22)            19%(4)   \n",
       "9         x42 (no pattern)         19.6%(28)          28.6%(6)   \n",
       "10          x06 (tented t)           2.1%(3)             0%(0)   \n",
       "11   x16 (single stroke t)           28%(40)         57.1%(12)   \n",
       "12          x26 (looped t)         15.4%(22)          14.3%(3)   \n",
       "13          x36 (closed t)         32.9%(47)            19%(4)   \n",
       "14           x46 (mixed t)         21.7%(31)           9.5%(2)   \n",
       "\n",
       "   x24 (above staff) x34 (no pattern)  \n",
       "0              1%(2)          17%(34)  \n",
       "1            100%(2)        79.4%(27)  \n",
       "2              0%(0)            0%(0)  \n",
       "3              0%(0)            0%(0)  \n",
       "4              0%(0)         20.6%(7)  \n",
       "5              0%(0)         17.6%(6)  \n",
       "6            100%(2)        32.3%(11)  \n",
       "7              0%(0)          2.9%(1)  \n",
       "8              0%(0)         23.5%(8)  \n",
       "9              0%(0)         23.5%(8)  \n",
       "10             0%(0)            0%(0)  \n",
       "11             0%(0)        35.3%(12)  \n",
       "12             0%(0)          8.8%(3)  \n",
       "13            50%(1)        32.3%(11)  \n",
       "14            50%(1)         23.5%(8)  "
      ]
     },
     "execution_count": 207,
     "metadata": {},
     "output_type": "execute_result"
    }
   ],
   "source": [
    "table6"
   ]
  },
  {
   "cell_type": "code",
   "execution_count": 208,
   "metadata": {},
   "outputs": [],
   "source": [
    "px14=[[80.4,57.1,100,79.4],[2.1,0,0,0],[5.6,14.3,0,0],[11.9,28.6,0,20.6]]\n",
    "px24=[[30.8,23.8,0,17.6],[32.2,28.6,100,32.3],[2.8,0,0,2.9],[15.4,19,0,23.5],[19.6,28.6,0,23.5]]\n",
    "px64=[[2.1,0,0,0],[28,57.1,0,35.3],[15.4,14.3,0,8.8],[32.9,19,50,32.3],[21.7,9.5,50,23.5]]"
   ]
  },
  {
   "cell_type": "code",
   "execution_count": 209,
   "metadata": {},
   "outputs": [
    {
     "name": "stdout",
     "output_type": "stream",
     "text": [
      "0.11957000000000005\n"
     ]
    }
   ],
   "source": [
    "sum=0\n",
    "for i in range(0,4):\n",
    "    for j in range(0,4):\n",
    "        sum+=abs(px14[i][j]*p[3][j]-p[0][i]*p[3][j])/10000\n",
    "print(sum)"
   ]
  },
  {
   "cell_type": "code",
   "execution_count": 210,
   "metadata": {},
   "outputs": [
    {
     "name": "stdout",
     "output_type": "stream",
     "text": [
      "0.11570000000000003\n"
     ]
    }
   ],
   "source": [
    "sum=0\n",
    "for i in range(0,5):\n",
    "    for j in range(0,4):\n",
    "        sum+=abs(px24[i][j]*p[3][j]-p[1][i]*p[3][j])/10000\n",
    "print(sum)"
   ]
  },
  {
   "cell_type": "code",
   "execution_count": 211,
   "metadata": {},
   "outputs": [
    {
     "name": "stdout",
     "output_type": "stream",
     "text": [
      "0.14346999999999996\n"
     ]
    }
   ],
   "source": [
    "sum=0\n",
    "for i in range(0,5):\n",
    "    for j in range(0,4):\n",
    "        sum+=abs(px64[i][j]*p[3][j]-p[5][i]*p[3][j])/10000\n",
    "print(sum)"
   ]
  },
  {
   "cell_type": "markdown",
   "metadata": {},
   "source": [
    "# Calculating p(x2|x5) and p(x3|x5)"
   ]
  },
  {
   "cell_type": "code",
   "execution_count": 212,
   "metadata": {},
   "outputs": [
    {
     "data": {
      "text/html": [
       "<div>\n",
       "<style scoped>\n",
       "    .dataframe tbody tr th:only-of-type {\n",
       "        vertical-align: middle;\n",
       "    }\n",
       "\n",
       "    .dataframe tbody tr th {\n",
       "        vertical-align: top;\n",
       "    }\n",
       "\n",
       "    .dataframe thead th {\n",
       "        text-align: right;\n",
       "    }\n",
       "</style>\n",
       "<table border=\"1\" class=\"dataframe\">\n",
       "  <thead>\n",
       "    <tr style=\"text-align: right;\">\n",
       "      <th></th>\n",
       "      <th>x5</th>\n",
       "      <th>x05 (upward)</th>\n",
       "      <th>x15 (downward)</th>\n",
       "      <th>x25 (even)</th>\n",
       "      <th>x35 (no pattern)</th>\n",
       "    </tr>\n",
       "  </thead>\n",
       "  <tbody>\n",
       "    <tr>\n",
       "      <th>0</th>\n",
       "      <td>Total</td>\n",
       "      <td>37.5%(75)</td>\n",
       "      <td>11%(22)</td>\n",
       "      <td>10.5%(21)</td>\n",
       "      <td>41%(82)</td>\n",
       "    </tr>\n",
       "    <tr>\n",
       "      <th>1</th>\n",
       "      <td>x02 (retraced staff)</td>\n",
       "      <td>30.7%(23)</td>\n",
       "      <td>18.2%(4)</td>\n",
       "      <td>28.6%(6)</td>\n",
       "      <td>9.1%(22)</td>\n",
       "    </tr>\n",
       "    <tr>\n",
       "      <th>2</th>\n",
       "      <td>x12 (curved right)</td>\n",
       "      <td>29.3%(22)</td>\n",
       "      <td>31.8%(7)</td>\n",
       "      <td>38.1%(8)</td>\n",
       "      <td>70.6%(27)</td>\n",
       "    </tr>\n",
       "    <tr>\n",
       "      <th>3</th>\n",
       "      <td>x22 (curved left)</td>\n",
       "      <td>4%(3)</td>\n",
       "      <td>9.1%(2)</td>\n",
       "      <td>0%(0)</td>\n",
       "      <td>70.6%(0)</td>\n",
       "    </tr>\n",
       "    <tr>\n",
       "      <th>4</th>\n",
       "      <td>x32 (both curved)</td>\n",
       "      <td>17.3%(13)</td>\n",
       "      <td>22.7%(5)</td>\n",
       "      <td>19%(4)</td>\n",
       "      <td>70.6%(12)</td>\n",
       "    </tr>\n",
       "    <tr>\n",
       "      <th>5</th>\n",
       "      <td>x42 (no pattern)</td>\n",
       "      <td>18.2%(14)</td>\n",
       "      <td>18.2%(4)</td>\n",
       "      <td>14.3%(3)</td>\n",
       "      <td>11.8%(21)</td>\n",
       "    </tr>\n",
       "    <tr>\n",
       "      <th>6</th>\n",
       "      <td>x03 (rounded arch)</td>\n",
       "      <td>17.3%(13)</td>\n",
       "      <td>13.6%(3)</td>\n",
       "      <td>38.1%(8)</td>\n",
       "      <td>14.6%(12)</td>\n",
       "    </tr>\n",
       "    <tr>\n",
       "      <th>7</th>\n",
       "      <td>x13 (pointed arch)</td>\n",
       "      <td>69.3%(52)</td>\n",
       "      <td>68.2%(15)</td>\n",
       "      <td>57.1%(12)</td>\n",
       "      <td>64.6%(53)</td>\n",
       "    </tr>\n",
       "    <tr>\n",
       "      <th>8</th>\n",
       "      <td>x23 (no pattern)</td>\n",
       "      <td>13.3%(10)</td>\n",
       "      <td>18.2%(4)</td>\n",
       "      <td>4.1%(1)</td>\n",
       "      <td>20.7%(17)</td>\n",
       "    </tr>\n",
       "  </tbody>\n",
       "</table>\n",
       "</div>"
      ],
      "text/plain": [
       "                     x5 x05 (upward) x15 (downward) x25 (even)  \\\n",
       "0                 Total    37.5%(75)        11%(22)  10.5%(21)   \n",
       "1  x02 (retraced staff)    30.7%(23)       18.2%(4)   28.6%(6)   \n",
       "2    x12 (curved right)    29.3%(22)       31.8%(7)   38.1%(8)   \n",
       "3     x22 (curved left)        4%(3)        9.1%(2)      0%(0)   \n",
       "4     x32 (both curved)    17.3%(13)       22.7%(5)     19%(4)   \n",
       "5      x42 (no pattern)    18.2%(14)       18.2%(4)   14.3%(3)   \n",
       "6    x03 (rounded arch)    17.3%(13)       13.6%(3)   38.1%(8)   \n",
       "7    x13 (pointed arch)    69.3%(52)      68.2%(15)  57.1%(12)   \n",
       "8      x23 (no pattern)    13.3%(10)       18.2%(4)    4.1%(1)   \n",
       "\n",
       "  x35 (no pattern)  \n",
       "0          41%(82)  \n",
       "1         9.1%(22)  \n",
       "2        70.6%(27)  \n",
       "3         70.6%(0)  \n",
       "4        70.6%(12)  \n",
       "5        11.8%(21)  \n",
       "6        14.6%(12)  \n",
       "7        64.6%(53)  \n",
       "8        20.7%(17)  "
      ]
     },
     "execution_count": 212,
     "metadata": {},
     "output_type": "execute_result"
    }
   ],
   "source": [
    "table7"
   ]
  },
  {
   "cell_type": "code",
   "execution_count": 213,
   "metadata": {},
   "outputs": [],
   "source": [
    "px25=[[30.7,18.2,28.6,26.8],[29.3,31.8,38.1,32.9],[4,9.1,0,0],[17.3,22.7,19,14.6],[18.7,18.2,14.3,25.6]]\n",
    "px35=[[17.3,13.6,38.1,14.6],[69.3,68.2,57.1,64.6],[13.3,18.2,4.8,20.7]]"
   ]
  },
  {
   "cell_type": "code",
   "execution_count": 214,
   "metadata": {},
   "outputs": [
    {
     "name": "stdout",
     "output_type": "stream",
     "text": [
      "0.12938999999999998\n"
     ]
    }
   ],
   "source": [
    "sum=0\n",
    "for i in range(0,5):\n",
    "    for j in range(0,4):\n",
    "        sum+=abs(px25[i][j]*p[4][j]-p[1][i]*p[4][j])/10000\n",
    "print(sum)"
   ]
  },
  {
   "cell_type": "code",
   "execution_count": 215,
   "metadata": {},
   "outputs": [
    {
     "name": "stdout",
     "output_type": "stream",
     "text": [
      "0.115965\n"
     ]
    }
   ],
   "source": [
    "sum=0\n",
    "for i in range(0,3):\n",
    "    for j in range(0,4):\n",
    "        sum+=abs(px35[i][j]*p[4][j]-p[2][i]*p[4][j])/10000\n",
    "print(sum)"
   ]
  },
  {
   "cell_type": "markdown",
   "metadata": {},
   "source": [
    "# Calculating p(x1|x6), p(x2|x6), p(x3|x6) and p(x4|x6)"
   ]
  },
  {
   "cell_type": "code",
   "execution_count": 216,
   "metadata": {},
   "outputs": [
    {
     "data": {
      "text/html": [
       "<div>\n",
       "<style scoped>\n",
       "    .dataframe tbody tr th:only-of-type {\n",
       "        vertical-align: middle;\n",
       "    }\n",
       "\n",
       "    .dataframe tbody tr th {\n",
       "        vertical-align: top;\n",
       "    }\n",
       "\n",
       "    .dataframe thead th {\n",
       "        text-align: right;\n",
       "    }\n",
       "</style>\n",
       "<table border=\"1\" class=\"dataframe\">\n",
       "  <thead>\n",
       "    <tr style=\"text-align: right;\">\n",
       "      <th></th>\n",
       "      <th>x6</th>\n",
       "      <th>x06 (tented)</th>\n",
       "      <th>x16 (single stroke)</th>\n",
       "      <th>x26 (looped)</th>\n",
       "      <th>x36 (closed)</th>\n",
       "      <th>x46 (mixed)</th>\n",
       "    </tr>\n",
       "  </thead>\n",
       "  <tbody>\n",
       "    <tr>\n",
       "      <th>0</th>\n",
       "      <td>Total</td>\n",
       "      <td>1.5%(3)</td>\n",
       "      <td>32%(64)</td>\n",
       "      <td>14%(28)</td>\n",
       "      <td>31.5%(63)</td>\n",
       "      <td>21%(42)</td>\n",
       "    </tr>\n",
       "    <tr>\n",
       "      <th>1</th>\n",
       "      <td>x01 (t shorter than h)</td>\n",
       "      <td>100%(3)</td>\n",
       "      <td>68.7%(44)</td>\n",
       "      <td>71.4%(20)</td>\n",
       "      <td>87.3%(55)</td>\n",
       "      <td>80.9%(34)</td>\n",
       "    </tr>\n",
       "    <tr>\n",
       "      <th>2</th>\n",
       "      <td>x11 (t even with h)</td>\n",
       "      <td>0%(0)</td>\n",
       "      <td>3.1%(2)</td>\n",
       "      <td>3.6%(1)</td>\n",
       "      <td>0%(0)</td>\n",
       "      <td>0%(0)</td>\n",
       "    </tr>\n",
       "    <tr>\n",
       "      <th>3</th>\n",
       "      <td>x21 (t taller than h)</td>\n",
       "      <td>0%(0)</td>\n",
       "      <td>14.3%(6)</td>\n",
       "      <td>3.6%(1)</td>\n",
       "      <td>0%(2)</td>\n",
       "      <td>4.8% (2)</td>\n",
       "    </tr>\n",
       "    <tr>\n",
       "      <th>4</th>\n",
       "      <td>x31 (no set pattern)</td>\n",
       "      <td>0%(0)</td>\n",
       "      <td>14.3%(12)</td>\n",
       "      <td>21.4%(6)</td>\n",
       "      <td>20.6%(6)</td>\n",
       "      <td>14.3%(6)</td>\n",
       "    </tr>\n",
       "    <tr>\n",
       "      <th>5</th>\n",
       "      <td>x02 (retraced staff)</td>\n",
       "      <td>0%(0)</td>\n",
       "      <td>28.1%(18)</td>\n",
       "      <td>21.4%(6)</td>\n",
       "      <td>31.7%(20)</td>\n",
       "      <td>26.2%(11)</td>\n",
       "    </tr>\n",
       "    <tr>\n",
       "      <th>6</th>\n",
       "      <td>x12 (curved right)</td>\n",
       "      <td>33.3%(1)</td>\n",
       "      <td>29.6%(19)</td>\n",
       "      <td>39.2%(11)</td>\n",
       "      <td>31.7%(20)</td>\n",
       "      <td>30.9(13)</td>\n",
       "    </tr>\n",
       "    <tr>\n",
       "      <th>7</th>\n",
       "      <td>x22 (curved left)</td>\n",
       "      <td>0%(0)</td>\n",
       "      <td>0%(0)</td>\n",
       "      <td>0%(0)</td>\n",
       "      <td>7.9%(5)</td>\n",
       "      <td>0%(0)</td>\n",
       "    </tr>\n",
       "    <tr>\n",
       "      <th>8</th>\n",
       "      <td>x32 (both curved)</td>\n",
       "      <td>66.6%(2)</td>\n",
       "      <td>23.4%(15)</td>\n",
       "      <td>14.2%(4)</td>\n",
       "      <td>9.5%(6)</td>\n",
       "      <td>16.7%(7)</td>\n",
       "    </tr>\n",
       "    <tr>\n",
       "      <th>9</th>\n",
       "      <td>x42 (no pattern)</td>\n",
       "      <td>0%(0)</td>\n",
       "      <td>18.7%(12)</td>\n",
       "      <td>25%(7)</td>\n",
       "      <td>19%(12)</td>\n",
       "      <td>26.2%(11)</td>\n",
       "    </tr>\n",
       "    <tr>\n",
       "      <th>10</th>\n",
       "      <td>x03 (rounded arch)</td>\n",
       "      <td>17.3%(0)</td>\n",
       "      <td>13.6%(14)</td>\n",
       "      <td>38.1%(3)</td>\n",
       "      <td>14.6%(13)</td>\n",
       "      <td>14.3%(6)</td>\n",
       "    </tr>\n",
       "    <tr>\n",
       "      <th>11</th>\n",
       "      <td>x13 (pointed arch)</td>\n",
       "      <td>69.3%(3)</td>\n",
       "      <td>68.2%(42)</td>\n",
       "      <td>57.1%(20)</td>\n",
       "      <td>64.6%(40)</td>\n",
       "      <td>64.3%(27)</td>\n",
       "    </tr>\n",
       "    <tr>\n",
       "      <th>12</th>\n",
       "      <td>x23 (no pattern)</td>\n",
       "      <td>13.3%(0)</td>\n",
       "      <td>18.2%(8)</td>\n",
       "      <td>4.1%(5)</td>\n",
       "      <td>20.7%(10)</td>\n",
       "      <td>21.4% (9)</td>\n",
       "    </tr>\n",
       "    <tr>\n",
       "      <th>13</th>\n",
       "      <td>x04 (upper staff)</td>\n",
       "      <td>100%(3)</td>\n",
       "      <td>62.5%(40)</td>\n",
       "      <td>78.6%(22)</td>\n",
       "      <td>74.6%(47)</td>\n",
       "      <td>73.8%(31)</td>\n",
       "    </tr>\n",
       "    <tr>\n",
       "      <th>14</th>\n",
       "      <td>x14 (lower staff)</td>\n",
       "      <td>0%(0)</td>\n",
       "      <td>18.7%(12)</td>\n",
       "      <td>10.7%(3)</td>\n",
       "      <td>6.3%(4)</td>\n",
       "      <td>4.8%(2)</td>\n",
       "    </tr>\n",
       "    <tr>\n",
       "      <th>15</th>\n",
       "      <td>x24 (above staff)</td>\n",
       "      <td>0%(0)</td>\n",
       "      <td>0%(0)</td>\n",
       "      <td>0%(0)</td>\n",
       "      <td>1.6%(1)</td>\n",
       "      <td>2.4%(1)</td>\n",
       "    </tr>\n",
       "    <tr>\n",
       "      <th>16</th>\n",
       "      <td>x34 (no pattern)</td>\n",
       "      <td>0%(0)</td>\n",
       "      <td>18.7%(12)</td>\n",
       "      <td>10.7%(3)</td>\n",
       "      <td>17.5%(11)</td>\n",
       "      <td>19%(8)</td>\n",
       "    </tr>\n",
       "  </tbody>\n",
       "</table>\n",
       "</div>"
      ],
      "text/plain": [
       "                        x6 x06 (tented) x16 (single stroke) x26 (looped)  \\\n",
       "0                    Total      1.5%(3)             32%(64)      14%(28)   \n",
       "1   x01 (t shorter than h)      100%(3)           68.7%(44)    71.4%(20)   \n",
       "2      x11 (t even with h)        0%(0)             3.1%(2)      3.6%(1)   \n",
       "3    x21 (t taller than h)        0%(0)            14.3%(6)      3.6%(1)   \n",
       "4     x31 (no set pattern)        0%(0)           14.3%(12)     21.4%(6)   \n",
       "5     x02 (retraced staff)        0%(0)           28.1%(18)     21.4%(6)   \n",
       "6       x12 (curved right)     33.3%(1)           29.6%(19)    39.2%(11)   \n",
       "7        x22 (curved left)        0%(0)               0%(0)        0%(0)   \n",
       "8        x32 (both curved)     66.6%(2)           23.4%(15)     14.2%(4)   \n",
       "9         x42 (no pattern)        0%(0)           18.7%(12)       25%(7)   \n",
       "10      x03 (rounded arch)     17.3%(0)           13.6%(14)     38.1%(3)   \n",
       "11      x13 (pointed arch)     69.3%(3)           68.2%(42)    57.1%(20)   \n",
       "12        x23 (no pattern)     13.3%(0)            18.2%(8)      4.1%(5)   \n",
       "13      x04 (upper staff)       100%(3)           62.5%(40)    78.6%(22)   \n",
       "14      x14 (lower staff)         0%(0)           18.7%(12)     10.7%(3)   \n",
       "15      x24 (above staff)         0%(0)               0%(0)        0%(0)   \n",
       "16        x34 (no pattern)        0%(0)           18.7%(12)     10.7%(3)   \n",
       "\n",
       "   x36 (closed) x46 (mixed)  \n",
       "0     31.5%(63)     21%(42)  \n",
       "1     87.3%(55)   80.9%(34)  \n",
       "2         0%(0)       0%(0)  \n",
       "3         0%(2)    4.8% (2)  \n",
       "4      20.6%(6)    14.3%(6)  \n",
       "5     31.7%(20)   26.2%(11)  \n",
       "6     31.7%(20)    30.9(13)  \n",
       "7       7.9%(5)       0%(0)  \n",
       "8       9.5%(6)    16.7%(7)  \n",
       "9       19%(12)   26.2%(11)  \n",
       "10    14.6%(13)    14.3%(6)  \n",
       "11    64.6%(40)   64.3%(27)  \n",
       "12    20.7%(10)   21.4% (9)  \n",
       "13    74.6%(47)   73.8%(31)  \n",
       "14      6.3%(4)     4.8%(2)  \n",
       "15      1.6%(1)     2.4%(1)  \n",
       "16    17.5%(11)      19%(8)  "
      ]
     },
     "execution_count": 216,
     "metadata": {},
     "output_type": "execute_result"
    }
   ],
   "source": [
    "table8"
   ]
  },
  {
   "cell_type": "code",
   "execution_count": 217,
   "metadata": {},
   "outputs": [],
   "source": [
    "px16=[[100,68.7,71.4,87.3,80.9],[0,3.1,3.6,0,0],[0,9.4,3.6,3.2,4.8],[0,18.7,21.4,9.5,14.3]]\n",
    "px26=[[0,28.1,21.4,31.7,26.2],[33.3,29.6,39.2,31.7,30.9],[0,0,0,7.9,0],[66.6,23.4,14.2,9.5,16.7],[0,18.7,25,19,26.2]]\n",
    "px36=[[0,21.8,10.7,20.6,14.3],[100,65.6,71.4,63.5,64.3],[0,12.5,17.9,15.9,21.4]]\n",
    "px46=[[100,62.5,78.6,74.6,73.8],[0,18.7,10.7,6.3,4.8],[0,0,0,1.6,2.4],[0,18.7,10.7,17.5,19]]"
   ]
  },
  {
   "cell_type": "code",
   "execution_count": 218,
   "metadata": {},
   "outputs": [
    {
     "name": "stdout",
     "output_type": "stream",
     "text": [
      "0.16036999999999998\n"
     ]
    }
   ],
   "source": [
    "sum=0\n",
    "for i in range(0,4):\n",
    "    for j in range(0,5):\n",
    "        sum+=abs(px16[i][j]*p[5][j]-p[0][i]*p[5][j])/10000\n",
    "print(sum)"
   ]
  },
  {
   "cell_type": "code",
   "execution_count": 219,
   "metadata": {},
   "outputs": [
    {
     "name": "stdout",
     "output_type": "stream",
     "text": [
      "0.175315\n"
     ]
    }
   ],
   "source": [
    "sum=0\n",
    "for i in range(0,5):\n",
    "    for j in range(0,5):\n",
    "        sum+=abs(px26[i][j]*p[5][j]-p[1][i]*p[5][j])/10000\n",
    "print(sum)"
   ]
  },
  {
   "cell_type": "code",
   "execution_count": 220,
   "metadata": {},
   "outputs": [
    {
     "name": "stdout",
     "output_type": "stream",
     "text": [
      "0.09434000000000005\n"
     ]
    }
   ],
   "source": [
    "sum=0\n",
    "for i in range(0,3):\n",
    "    for j in range(0,5):\n",
    "        sum+=abs(px36[i][j]*p[5][j]-p[2][i]*p[5][j])/10000\n",
    "print(sum)"
   ]
  },
  {
   "cell_type": "code",
   "execution_count": 221,
   "metadata": {},
   "outputs": [
    {
     "name": "stdout",
     "output_type": "stream",
     "text": [
      "0.14306999999999992\n"
     ]
    }
   ],
   "source": [
    "sum=0\n",
    "for i in range(0,4):\n",
    "    for j in range(0,5):\n",
    "        sum+=abs(px46[i][j]*p[5][j]-p[3][i]*p[5][j])/10000\n",
    "print(sum)"
   ]
  },
  {
   "cell_type": "markdown",
   "metadata": {},
   "source": [
    "# Task 2 Construction of Baysian Network"
   ]
  },
  {
   "cell_type": "code",
   "execution_count": 222,
   "metadata": {},
   "outputs": [
    {
     "name": "stdout",
     "output_type": "stream",
     "text": [
      "Requirement already satisfied: pgmpy in c:\\users\\shraddha\\anaconda3\\lib\\site-packages (0.1.7)\n",
      "Requirement already satisfied: numpy>=1.14.0 in c:\\users\\shraddha\\anaconda3\\lib\\site-packages (from pgmpy) (1.14.3)\n",
      "Requirement already satisfied: networkx<1.12,>=1.11 in c:\\users\\shraddha\\anaconda3\\lib\\site-packages (from pgmpy) (1.11)\n",
      "Requirement already satisfied: scipy>=1.0.0 in c:\\users\\shraddha\\anaconda3\\lib\\site-packages (from pgmpy) (1.1.0)\n",
      "Requirement already satisfied: decorator>=3.4.0 in c:\\users\\shraddha\\anaconda3\\lib\\site-packages (from networkx<1.12,>=1.11->pgmpy) (4.3.0)\n"
     ]
    },
    {
     "name": "stderr",
     "output_type": "stream",
     "text": [
      "You are using pip version 18.1, however version 19.0.3 is available.\n",
      "You should consider upgrading via the 'python -m pip install --upgrade pip' command.\n"
     ]
    }
   ],
   "source": [
    "!pip install pgmpy"
   ]
  },
  {
   "cell_type": "code",
   "execution_count": 223,
   "metadata": {},
   "outputs": [
    {
     "data": {
      "text/plain": [
       "True"
      ]
     },
     "execution_count": 223,
     "metadata": {},
     "output_type": "execute_result"
    }
   ],
   "source": [
    "from pgmpy.models import BayesianModel\n",
    "from pgmpy.factors.discrete import TabularCPD\n",
    "# Defining the model structure. We can define the network by just passing a list of edges.\n",
    "model1 = BayesianModel([('x3', 'x6'), ('x3', 'x5'), ('x6', 'x2'), ('x6', 'x1'), ('x6', 'x4')])\n",
    "\n",
    "# Defining individual CPDs.\n",
    "cpd_x3 =TabularCPD(variable='x3', variable_card=3, values=[[x / 100 for x in p[2]]])\n",
    "cpd_x6 =TabularCPD(variable='x6', variable_card=5, values=[[float(j)/100 for j in i] for i in px63],evidence=['x3'],evidence_card=[3])\n",
    "cpd_x5= TabularCPD(variable='x5', variable_card=4, values=[[float(j)/100 for j in i] for i in px53],evidence=['x3'],evidence_card=[3])\n",
    "cpd_x4= TabularCPD(variable='x4', variable_card=4, values=[[float(j)/100 for j in i] for i in px46],evidence=['x6'],evidence_card=[5])\n",
    "cpd_x2= TabularCPD(variable='x2', variable_card=5, values=[[float(j)/100 for j in i] for i in px26],evidence=['x6'],evidence_card=[5])\n",
    "cpd_x1= TabularCPD(variable='x1', variable_card=4, values=[[float(j)/100 for j in i] for i in px16],evidence=['x6'],evidence_card=[5])\n",
    "\n",
    "\n",
    "# Associating the CPDs with the network\n",
    "model1.add_cpds(cpd_x3, cpd_x6, cpd_x5, cpd_x2, cpd_x4, cpd_x1)\n",
    "\n",
    "# check_model checks for the network structure and CPDs and verifies that the CPDs are correctly \n",
    "# defined and sum to 1.\n",
    "model1.check_model()"
   ]
  },
  {
   "cell_type": "code",
   "execution_count": 224,
   "metadata": {},
   "outputs": [
    {
     "data": {
      "text/plain": [
       "True"
      ]
     },
     "execution_count": 224,
     "metadata": {},
     "output_type": "execute_result"
    }
   ],
   "source": [
    "from pgmpy.models import BayesianModel\n",
    "from pgmpy.factors.discrete import TabularCPD\n",
    "# Defining the model structure. We can define the network by just passing a list of edges.\n",
    "model2 = BayesianModel([('x6', 'x1'), ('x6', 'x2'), ('x2', 'x3'), ('x2', 'x5'), ('x1', 'x4')])\n",
    "\n",
    "# Defining individual CPDs.\n",
    "cpd_x6 =TabularCPD(variable='x6', variable_card=5, values=[[x / 100 for x in p[5]]])\n",
    "cpd_x1 =TabularCPD(variable='x1', variable_card=4, values=[[float(j)/100 for j in i] for i in px16],evidence=['x6'],evidence_card=[5])\n",
    "cpd_x2= TabularCPD(variable='x2', variable_card=5, values=[[float(j)/100 for j in i] for i in px26],evidence=['x6'],evidence_card=[5])\n",
    "cpd_x3= TabularCPD(variable='x3', variable_card=3, values=[[float(j)/100 for j in i] for i in px32],evidence=['x2'],evidence_card=[5])\n",
    "cpd_x5= TabularCPD(variable='x5', variable_card=4, values=[[float(j)/100 for j in i] for i in px52],evidence=['x2'],evidence_card=[5])\n",
    "cpd_x4= TabularCPD(variable='x4', variable_card=4, values=[[float(j)/100 for j in i] for i in px41],evidence=['x1'],evidence_card=[4])\n",
    "\n",
    "\n",
    "# Associating the CPDs with the network\n",
    "model2.add_cpds(cpd_x3, cpd_x6, cpd_x5, cpd_x2, cpd_x4, cpd_x1)\n",
    "\n",
    "# check_model checks for the network structure and CPDs and verifies that the CPDs are correctly \n",
    "# defined and sum to 1.\n",
    "model2.check_model()"
   ]
  },
  {
   "cell_type": "code",
   "execution_count": 225,
   "metadata": {},
   "outputs": [
    {
     "data": {
      "text/plain": [
       "True"
      ]
     },
     "execution_count": 225,
     "metadata": {},
     "output_type": "execute_result"
    }
   ],
   "source": [
    "from pgmpy.models import BayesianModel\n",
    "from pgmpy.factors.discrete import TabularCPD\n",
    "# Defining the model structure. We can define the network by just passing a list of edges.\n",
    "model3 = BayesianModel([('x6', 'x1'), ('x6', 'x2'), ('x6', 'x3'), ('x2', 'x5'), ('x1', 'x4')])\n",
    "\n",
    "# Defining individual CPDs.\n",
    "cpd_x6 =TabularCPD(variable='x6', variable_card=5, values=[[x / 100 for x in p[5]]])\n",
    "cpd_x1 =TabularCPD(variable='x1', variable_card=4, values=[[float(j)/100 for j in i] for i in px16],evidence=['x6'],evidence_card=[5])\n",
    "cpd_x2= TabularCPD(variable='x2', variable_card=5, values=[[float(j)/100 for j in i] for i in px26],evidence=['x6'],evidence_card=[5])\n",
    "cpd_x3= TabularCPD(variable='x3', variable_card=3, values=[[float(j)/100 for j in i] for i in px36],evidence=['x6'],evidence_card=[5])\n",
    "cpd_x5= TabularCPD(variable='x5', variable_card=4, values=[[float(j)/100 for j in i] for i in px52],evidence=['x2'],evidence_card=[5])\n",
    "cpd_x4= TabularCPD(variable='x4', variable_card=4, values=[[float(j)/100 for j in i] for i in px41],evidence=['x1'],evidence_card=[4])\n",
    "\n",
    "\n",
    "# Associating the CPDs with the network\n",
    "model3.add_cpds(cpd_x3, cpd_x6, cpd_x5, cpd_x2, cpd_x4, cpd_x1)\n",
    "\n",
    "# check_model checks for the network structure and CPDs and verifies that the CPDs are correctly \n",
    "# defined and sum to 1.\n",
    "model3.check_model()"
   ]
  },
  {
   "cell_type": "code",
   "execution_count": 226,
   "metadata": {},
   "outputs": [
    {
     "data": {
      "text/plain": [
       "True"
      ]
     },
     "execution_count": 226,
     "metadata": {},
     "output_type": "execute_result"
    }
   ],
   "source": [
    "from pgmpy.models import BayesianModel\n",
    "from pgmpy.factors.discrete import TabularCPD\n",
    "# Defining the model structure. We can define the network by just passing a list of edges.\n",
    "model4 = BayesianModel([('x4', 'x1'), ('x4', 'x2'), ('x2', 'x3'), ('x3', 'x5'), ('x1', 'x6')])\n",
    "\n",
    "# Defining individual CPDs.\n",
    "cpd_x4 =TabularCPD(variable='x4', variable_card=4, values=[[x / 100 for x in p[3]]])\n",
    "cpd_x1 =TabularCPD(variable='x1', variable_card=4, values=[[float(j)/100 for j in i] for i in px14],evidence=['x4'],evidence_card=[4])\n",
    "cpd_x2= TabularCPD(variable='x2', variable_card=5, values=[[float(j)/100 for j in i] for i in px24],evidence=['x4'],evidence_card=[4])\n",
    "cpd_x3= TabularCPD(variable='x3', variable_card=3, values=[[float(j)/100 for j in i] for i in px32],evidence=['x2'],evidence_card=[5])\n",
    "cpd_x5= TabularCPD(variable='x5', variable_card=4, values=[[float(j)/100 for j in i] for i in px53],evidence=['x3'],evidence_card=[3])\n",
    "cpd_x6= TabularCPD(variable='x6', variable_card=5, values=[[float(j)/100 for j in i] for i in px61],evidence=['x1'],evidence_card=[4])\n",
    "\n",
    "\n",
    "# Associating the CPDs with the network\n",
    "model4.add_cpds(cpd_x3, cpd_x6, cpd_x5, cpd_x2, cpd_x4, cpd_x1)\n",
    "\n",
    "# check_model checks for the network structure and CPDs and verifies that the CPDs are correctly \n",
    "# defined and sum to 1.\n",
    "model4.check_model()"
   ]
  },
  {
   "cell_type": "code",
   "execution_count": 227,
   "metadata": {},
   "outputs": [
    {
     "data": {
      "text/plain": [
       "True"
      ]
     },
     "execution_count": 227,
     "metadata": {},
     "output_type": "execute_result"
    }
   ],
   "source": [
    "from pgmpy.models import BayesianModel\n",
    "from pgmpy.factors.discrete import TabularCPD\n",
    "# Defining the model structure. We can define the network by just passing a list of edges.\n",
    "model5 = BayesianModel([('x1', 'x6'), ('x1', 'x4'), ('x6', 'x2'), ('x6', 'x3'), ('x3', 'x5')])\n",
    "\n",
    "# Defining individual CPDs.\n",
    "cpd_x1 =TabularCPD(variable='x1', variable_card=4, values=[[x / 100 for x in p[0]]])\n",
    "cpd_x6 =TabularCPD(variable='x6', variable_card=5, values=[[float(j)/100 for j in i] for i in px61],evidence=['x1'],evidence_card=[4])\n",
    "cpd_x4= TabularCPD(variable='x4', variable_card=4, values=[[float(j)/100 for j in i] for i in px41],evidence=['x1'],evidence_card=[4])\n",
    "cpd_x2= TabularCPD(variable='x2', variable_card=5, values=[[float(j)/100 for j in i] for i in px26],evidence=['x6'],evidence_card=[5])\n",
    "cpd_x3= TabularCPD(variable='x3', variable_card=3, values=[[float(j)/100 for j in i] for i in px36],evidence=['x6'],evidence_card=[5])\n",
    "cpd_x5= TabularCPD(variable='x5', variable_card=4, values=[[float(j)/100 for j in i] for i in px53],evidence=['x3'],evidence_card=[3])\n",
    "\n",
    "\n",
    "# Associating the CPDs with the network\n",
    "model5.add_cpds(cpd_x3, cpd_x6, cpd_x5, cpd_x2, cpd_x4, cpd_x1)\n",
    "\n",
    "# check_model checks for the network structure and CPDs and verifies that the CPDs are correctly \n",
    "# defined and sum to 1.\n",
    "model5.check_model()"
   ]
  },
  {
   "cell_type": "code",
   "execution_count": 228,
   "metadata": {},
   "outputs": [
    {
     "name": "stdout",
     "output_type": "stream",
     "text": [
      "   x3  x6  x2  x1  x4  x5\n",
      "0   1   4   0   3   3   0\n",
      "1   1   3   1   2   0   0\n",
      "2   2   3   4   0   0   0\n",
      "3   0   3   1   0   0   3\n",
      "4   1   3   0   0   0   3\n",
      "   x6  x1  x4  x2  x3  x5\n",
      "0   4   0   0   1   0   0\n",
      "1   1   3   0   1   0   0\n",
      "2   1   0   0   1   1   0\n",
      "3   3   0   0   0   1   1\n",
      "4   3   0   0   0   1   0\n",
      "   x6  x1  x4  x2  x5  x3\n",
      "0   4   0   0   3   3   1\n",
      "1   3   0   3   0   2   2\n",
      "2   4   3   0   4   3   1\n",
      "3   3   0   0   1   3   1\n",
      "4   4   0   0   3   1   1\n",
      "   x4  x1  x6  x2  x3  x5\n",
      "0   0   0   3   1   1   3\n",
      "1   0   0   3   1   1   3\n",
      "2   1   2   3   4   1   2\n",
      "3   1   3   1   3   0   0\n",
      "4   0   0   1   0   1   0\n",
      "   x1  x6  x2  x3  x5  x4\n",
      "0   0   3   3   1   0   0\n",
      "1   3   1   3   1   0   0\n",
      "2   0   3   0   0   2   0\n",
      "3   3   1   3   1   2   0\n",
      "4   0   3   1   1   0   0\n"
     ]
    }
   ],
   "source": [
    "from pgmpy.sampling import BayesianModelSampling\n",
    "inference = BayesianModelSampling(model1)\n",
    "bayesianData1=inference.forward_sample(size=1000)\n",
    "print(bayesianData1.head())\n",
    "inference = BayesianModelSampling(model2)\n",
    "bayesianData2=inference.forward_sample(size=1000)\n",
    "print(bayesianData2.head())\n",
    "inference = BayesianModelSampling(model3)\n",
    "bayesianData3=inference.forward_sample(size=1000)\n",
    "print(bayesianData3.head())\n",
    "inference = BayesianModelSampling(model4)\n",
    "bayesianData4=inference.forward_sample(size=1000)\n",
    "print(bayesianData4.head())\n",
    "inference = BayesianModelSampling(model5)\n",
    "bayesianData5=inference.forward_sample(size=1000)\n",
    "print(bayesianData5.head())"
   ]
  },
  {
   "cell_type": "code",
   "execution_count": 229,
   "metadata": {},
   "outputs": [
    {
     "name": "stdout",
     "output_type": "stream",
     "text": [
      "K2 Score of Model 1: -6417.959563801009\n",
      "K2 Score of Model 2: -6394.4771123352875\n",
      "K2 Score of Model 3: -6525.362202587754\n",
      "K2 Score of Model 4: -6421.339939703872\n",
      "K2 Score of Model 5: -6386.158182942754\n"
     ]
    }
   ],
   "source": [
    "from pgmpy.estimators import K2Score\n",
    "k1 = K2Score(bayesianData1)\n",
    "k2 = K2Score(bayesianData2)\n",
    "k3 = K2Score(bayesianData3)\n",
    "k4 = K2Score(bayesianData4)\n",
    "k5 = K2Score(bayesianData5)\n",
    "\n",
    "print('K2 Score of Model 1: ' + str(k1.score(model1)))\n",
    "print('K2 Score of Model 2: ' + str(k2.score(model2)))\n",
    "print('K2 Score of Model 3: ' + str(k3.score(model3)))\n",
    "print('K2 Score of Model 4: ' + str(k4.score(model4)))\n",
    "print('K2 Score of Model 5: ' + str(k5.score(model5)))"
   ]
  },
  {
   "cell_type": "code",
   "execution_count": 230,
   "metadata": {},
   "outputs": [
    {
     "name": "stdout",
     "output_type": "stream",
     "text": [
      "[1, 3, 2, 1, 4, 4]\n",
      "[1, 1, 1, 3, 1, 1]\n"
     ]
    }
   ],
   "source": [
    "jointProb=[]\n",
    "indexOfNw=[]\n",
    "for i in range(0,4):\n",
    "  for j in range(0,5):\n",
    "    for k in range(0,3):\n",
    "      for l in range(0,4):\n",
    "        for m in range(0,4):\n",
    "          for n in range(0,5):\n",
    "            jointProb.append(px14[i][l]*px24[k][l]*px32[k][j]*px53[m][k]*px61[n][i]*p[3][l])\n",
    "            indexOfNw.append([i+1,j+1,k+1,l+1,m+1,n+1])\n",
    "print(indexOfNw[np.argmax(jointProb)])\n",
    "print(indexOfNw[np.argmin(jointProb)])"
   ]
  },
  {
   "cell_type": "markdown",
   "metadata": {},
   "source": [
    "# Task 3 Markov Model"
   ]
  },
  {
   "cell_type": "code",
   "execution_count": 231,
   "metadata": {},
   "outputs": [
    {
     "name": "stdout",
     "output_type": "stream",
     "text": [
      "[('x4', 'x1'), ('x4', 'x2'), ('x1', 'x6'), ('x2', 'x3'), ('x3', 'x5')]\n",
      "[<DiscreteFactor representing phi(x3:3, x2:5) at 0x11a2e1e4470>, <DiscreteFactor representing phi(x6:5, x1:4) at 0x11a2e1e46d8>, <DiscreteFactor representing phi(x5:4, x3:3) at 0x11a2e1e4a90>, <DiscreteFactor representing phi(x2:5, x4:4) at 0x11a2e1e4fd0>, <DiscreteFactor representing phi(x4:4) at 0x11a2e1e45f8>, <DiscreteFactor representing phi(x1:4, x4:4) at 0x11a2e1e4898>]\n"
     ]
    }
   ],
   "source": [
    "markovModel_th = model4.to_markov_model()\n",
    "print(markovModel_th.edges())\n",
    "print(markovModel_th.get_factors())"
   ]
  },
  {
   "cell_type": "markdown",
   "metadata": {},
   "source": [
    "# Task 4: Using AND Image dataset"
   ]
  },
  {
   "cell_type": "code",
   "execution_count": 232,
   "metadata": {},
   "outputs": [],
   "source": [
    "andFeaturesTable = pd.read_csv(\"B:/UB_Notes/Spring'19/CSE674_AML/Project1/AND-Features(1).csv\") \n",
    "\n",
    "andFeatures_data = andFeaturesTable.drop(['Unnamed: 0', 'img_id'], axis=1)\n"
   ]
  },
  {
   "cell_type": "code",
   "execution_count": 233,
   "metadata": {},
   "outputs": [
    {
     "name": "stdout",
     "output_type": "stream",
     "text": [
      "[('f3', 'f4'), ('f3', 'f9'), ('f3', 'f8'), ('f5', 'f9'), ('f5', 'f3'), ('f9', 'f8'), ('f9', 'f7'), ('f9', 'f1'), ('f9', 'f6'), ('f9', 'f2'), ('f9', 'f4')]\n",
      "[('f3', 'f4'), ('f5', 'f9'), ('f5', 'f3'), ('f9', 'f8'), ('f9', 'f7'), ('f9', 'f1'), ('f9', 'f6'), ('f9', 'f2')]\n"
     ]
    }
   ],
   "source": [
    "from pgmpy.estimators import HillClimbSearch\n",
    "from pgmpy.estimators import K2Score\n",
    "\n",
    "hillclimb = HillClimbSearch(andFeatures_data, scoring_method=K2Score(andFeatures_data))\n",
    "bestModel = hillclimb.estimate()\n",
    "oneParent=hillclimb.estimate(max_indegree=1)\n",
    "print(bestModel.edges())\n",
    "print(oneParent.edges())"
   ]
  },
  {
   "cell_type": "code",
   "execution_count": 234,
   "metadata": {},
   "outputs": [
    {
     "name": "stdout",
     "output_type": "stream",
     "text": [
      "[('f1', 'f9'), ('f9', 'f2'), ('f9', 'f3'), ('f9', 'f4'), ('f9', 'f5'), ('f9', 'f6'), ('f9', 'f7'), ('f9', 'f8'), ('f3', 'f4'), ('f3', 'f8'), ('f3', 'f5')]\n",
      "K2 Score of Model : -9462.704892371388\n",
      "K2 Score of Model : -9472.972012154245\n"
     ]
    }
   ],
   "source": [
    "# Constructing Markov Network for AND dataset\n",
    "bestModel_MarkovNetwork = bestModel.to_markov_model()\n",
    "print(bestModel_MarkovNetwork.edges())\n",
    "k1 = K2Score(andFeatures_data)\n",
    "k2 = K2Score(andFeatures_data)\n",
    "print('K2 Score of Model : ' + str(k2.score(bestModel)))\n",
    "print('K2 Score of Model : ' + str(k2.score(oneParent)))"
   ]
  },
  {
   "cell_type": "code",
   "execution_count": 235,
   "metadata": {},
   "outputs": [
    {
     "name": "stdout",
     "output_type": "stream",
     "text": [
      "+-------+---------------------+---------------------+\n",
      "| f9    | f9(1)               | f9(2)               |\n",
      "+-------+---------------------+---------------------+\n",
      "| f1(0) | 0.19880174291938998 | 0.10683094198378042 |\n",
      "+-------+---------------------+---------------------+\n",
      "| f1(1) | 0.4471677559912854  | 0.2602932002495321  |\n",
      "+-------+---------------------+---------------------+\n",
      "| f1(2) | 0.264161220043573   | 0.36883967560823455 |\n",
      "+-------+---------------------+---------------------+\n",
      "| f1(3) | 0.08986928104575163 | 0.2640361821584529  |\n",
      "+-------+---------------------+---------------------+\n",
      "+-------+----------------------+----------------------+\n",
      "| f9    | f9(1)                | f9(2)                |\n",
      "+-------+----------------------+----------------------+\n",
      "| f2(0) | 0.14596949891067537  | 0.18652526512788523  |\n",
      "+-------+----------------------+----------------------+\n",
      "| f2(1) | 0.6209150326797386   | 0.4847161572052402   |\n",
      "+-------+----------------------+----------------------+\n",
      "| f2(2) | 0.14596949891067537  | 0.12663755458515283  |\n",
      "+-------+----------------------+----------------------+\n",
      "| f2(3) | 0.015250544662309368 | 0.011852776044915784 |\n",
      "+-------+----------------------+----------------------+\n",
      "| f2(4) | 0.0718954248366013   | 0.19026824703680598  |\n",
      "+-------+----------------------+----------------------+\n",
      "+-------+----------------------+---------------------+----------------------+---------------------+\n",
      "| f5    | f5(0)                | f5(1)               | f5(2)                | f5(3)               |\n",
      "+-------+----------------------+---------------------+----------------------+---------------------+\n",
      "| f3(0) | 0.20850293984622345  | 0.01061571125265393 | 0.11776447105788425  | 0.09941520467836258 |\n",
      "+-------+----------------------+---------------------+----------------------+---------------------+\n",
      "| f3(1) | 0.7458163726820444   | 0.9787685774946923  | 0.8539762580102953   | 0.3801169590643275  |\n",
      "+-------+----------------------+---------------------+----------------------+---------------------+\n",
      "| f3(2) | 0.045680687471732255 | 0.01061571125265393 | 0.028259270931820575 | 0.52046783625731    |\n",
      "+-------+----------------------+---------------------+----------------------+---------------------+\n",
      "+-------+----------------------+----------------------+-----------------------+----------------------+---------------------+---------------------+\n",
      "| f3    | f3(0)                | f3(0)                | f3(1)                 | f3(1)                | f3(2)               | f3(2)               |\n",
      "+-------+----------------------+----------------------+-----------------------+----------------------+---------------------+---------------------+\n",
      "| f9    | f9(1)                | f9(2)                | f9(1)                 | f9(2)                | f9(1)               | f9(2)               |\n",
      "+-------+----------------------+----------------------+-----------------------+----------------------+---------------------+---------------------+\n",
      "| f4(0) | 0.11801242236024843  | 0.17940717628705147  | 0.363404255319149     | 0.39250691475986926  | 0.1707317073170732  | 0.03664921465968586 |\n",
      "+-------+----------------------+----------------------+-----------------------+----------------------+---------------------+---------------------+\n",
      "| f4(1) | 0.5652173913043478   | 0.15132605304212168  | 0.2868085106382979    | 0.18883580588383203  | 0.3170731707317074  | 0.16230366492146597 |\n",
      "+-------+----------------------+----------------------+-----------------------+----------------------+---------------------+---------------------+\n",
      "| f4(2) | 0.22981366459627328  | 0.5070202808112324   | 0.0774468085106383    | 0.04852904199145083  | 0.02439024390243903 | 0.03664921465968586 |\n",
      "+-------+----------------------+----------------------+-----------------------+----------------------+---------------------+---------------------+\n",
      "| f4(3) | 0.08074534161490682  | 0.13260530421216846  | 0.2663829787234043    | 0.35931606738747796  | 0.02439024390243903 | 0.31937172774869105 |\n",
      "+-------+----------------------+----------------------+-----------------------+----------------------+---------------------+---------------------+\n",
      "| f4(4) | 0.006211180124223601 | 0.029641185647425895 | 0.0059574468085106394 | 0.010812169977369876 | 0.46341463414634154 | 0.4450261780104712  |\n",
      "+-------+----------------------+----------------------+-----------------------+----------------------+---------------------+---------------------+\n",
      "+-------+-----------+\n",
      "| f5(0) | 0.17871   |\n",
      "+-------+-----------+\n",
      "| f5(1) | 0.0380698 |\n",
      "+-------+-----------+\n",
      "| f5(2) | 0.769399  |\n",
      "+-------+-----------+\n",
      "| f5(3) | 0.0138215 |\n",
      "+-------+-----------+\n",
      "+-------+----------------------+---------------------+\n",
      "| f9    | f9(1)                | f9(2)               |\n",
      "+-------+----------------------+---------------------+\n",
      "| f6(0) | 0.007080610021786492 | 0.01824703680598877 |\n",
      "+-------+----------------------+---------------------+\n",
      "| f6(1) | 0.3164488017429194   | 0.16921397379912664 |\n",
      "+-------+----------------------+---------------------+\n",
      "| f6(2) | 0.590958605664488    | 0.6033998752339363  |\n",
      "+-------+----------------------+---------------------+\n",
      "| f6(3) | 0.0855119825708061   | 0.20913911416094821 |\n",
      "+-------+----------------------+---------------------+\n",
      "+-------+---------------------+---------------------+\n",
      "| f9    | f9(1)               | f9(2)               |\n",
      "+-------+---------------------+---------------------+\n",
      "| f7(0) | 0.2510893246187364  | 0.527292576419214   |\n",
      "+-------+---------------------+---------------------+\n",
      "| f7(1) | 0.46459694989106753 | 0.3077043044291953  |\n",
      "+-------+---------------------+---------------------+\n",
      "| f7(2) | 0.23366013071895425 | 0.04444791016843418 |\n",
      "+-------+---------------------+---------------------+\n",
      "| f7(3) | 0.05065359477124183 | 0.12055520898315658 |\n",
      "+-------+---------------------+---------------------+\n",
      "+-------+----------------------+---------------------+----------------------+---------------------+----------------------+----------------------+\n",
      "| f3    | f3(0)                | f3(0)               | f3(1)                | f3(1)               | f3(2)                | f3(2)                |\n",
      "+-------+----------------------+---------------------+----------------------+---------------------+----------------------+----------------------+\n",
      "| f9    | f9(1)                | f9(2)               | f9(1)                | f9(2)               | f9(1)                | f9(2)                |\n",
      "+-------+----------------------+---------------------+----------------------+---------------------+----------------------+----------------------+\n",
      "| f8(0) | 0.19254658385093168  | 0.1606864274570983  | 0.16936170212765958  | 0.18129243148101587 | 0.024390243902439022 | 0.005235602094240838 |\n",
      "+-------+----------------------+---------------------+----------------------+---------------------+----------------------+----------------------+\n",
      "| f8(1) | 0.3043478260869565   | 0.11388455538221529 | 0.3787234042553192   | 0.20844857933115415 | 0.6097560975609756   | 0.09947643979057591  |\n",
      "+-------+----------------------+---------------------+----------------------+---------------------+----------------------+----------------------+\n",
      "| f8(2) | 0.4161490683229813   | 0.2074882995319813  | 0.41446808510638306  | 0.19939653004777472 | 0.31707317073170727  | 0.44502617801047123  |\n",
      "+-------+----------------------+---------------------+----------------------+---------------------+----------------------+----------------------+\n",
      "| f8(3) | 0.006211180124223601 | 0.42277691107644305 | 0.011063829787234043 | 0.23560472718129244 | 0.024390243902439022 | 0.28795811518324604  |\n",
      "+-------+----------------------+---------------------+----------------------+---------------------+----------------------+----------------------+\n",
      "| f8(4) | 0.08074534161490682  | 0.09516380655226209 | 0.026382978723404258 | 0.1752577319587629  | 0.024390243902439022 | 0.16230366492146597  |\n",
      "+-------+----------------------+---------------------+----------------------+---------------------+----------------------+----------------------+\n",
      "+-------+---------------------+-------+----------------------+--------------------+---------------------+---------------------+---------------------+--------------------+--------------------+-------+---------------------+--------------------+\n",
      "| f3    | f3(0)               | f3(0) | f3(0)                | f3(0)              | f3(1)               | f3(1)               | f3(1)               | f3(1)              | f3(2)              | f3(2) | f3(2)               | f3(2)              |\n",
      "+-------+---------------------+-------+----------------------+--------------------+---------------------+---------------------+---------------------+--------------------+--------------------+-------+---------------------+--------------------+\n",
      "| f5    | f5(0)               | f5(1) | f5(2)                | f5(3)              | f5(0)               | f5(1)               | f5(2)               | f5(3)              | f5(0)              | f5(1) | f5(2)               | f5(3)              |\n",
      "+-------+---------------------+-------+----------------------+--------------------+---------------------+---------------------+---------------------+--------------------+--------------------+-------+---------------------+--------------------+\n",
      "| f9(1) | 0.6561822125813449  | 0.5   | 0.012934879571810883 | 0.1470588235294118 | 0.5181928441479685  | 0.03145336225596529 | 0.18040349366465738 | 0.2230769230769231 | 0.2623762376237624 | 0.5   | 0.09851301115241637 | 0.2977528089887641 |\n",
      "+-------+---------------------+-------+----------------------+--------------------+---------------------+---------------------+---------------------+--------------------+--------------------+-------+---------------------+--------------------+\n",
      "| f9(2) | 0.34381778741865515 | 0.5   | 0.9870651204281892   | 0.8529411764705883 | 0.48180715585203154 | 0.9685466377440346  | 0.8195965063353425  | 0.7769230769230769 | 0.7376237623762376 | 0.5   | 0.9014869888475837  | 0.702247191011236  |\n",
      "+-------+---------------------+-------+----------------------+--------------------+---------------------+---------------------+---------------------+--------------------+--------------------+-------+---------------------+--------------------+\n"
     ]
    }
   ],
   "source": [
    "# Constructing Baysian Network of AND dataset\n",
    "cpdofAnd=[]\n",
    "from pgmpy.estimators import BayesianEstimator\n",
    "\n",
    "estimator = BayesianEstimator(bestModel, andFeatures_data)\n",
    "for node in bestModel.nodes():\n",
    "   cpd = estimator.estimate_cpd(node)\n",
    "   print(cpd)\n",
    "   cpdofAnd.append(cpd.get_values())"
   ]
  },
  {
   "cell_type": "code",
   "execution_count": 236,
   "metadata": {},
   "outputs": [
    {
     "name": "stdout",
     "output_type": "stream",
     "text": [
      "[3, 2, 2, 1, 3, 3, 1, 4, 2]\n",
      "[4, 4, 1, 5, 2, 1, 4, 4, 1]\n"
     ]
    }
   ],
   "source": [
    "jointProb=[]\n",
    "indexOfNw=[]\n",
    "for i in range (0,4):\n",
    "  for j in range (0,5):\n",
    "    for k in range (0,3):\n",
    "      for l in range (0,5):\n",
    "        for m in range (0,4):\n",
    "          for n in range (0,4):\n",
    "            for o in range (0,4):\n",
    "              for q in range (0,5):\n",
    "                for r in range (0,2):\n",
    "                  jointProb.append(cpdofAnd[0][i][r]*cpdofAnd[1][j][r]*cpdofAnd[5][n][r]*cpdofAnd[6][o][r]*cpdofAnd[7][q][(2*k)+r]*cpdofAnd[8][r][(4*k)+m]*cpdofAnd[3][l][(2*k)+r]*cpdofAnd[2][k][m]*cpdofAnd[4][m])\n",
    "                  indexOfNw.append([i+1,j+1,k+1,l+1,m+1,n+1,o+1,q+1,r+1])\n",
    "print(indexOfNw[np.argmax(jointProb)])\n",
    "print(indexOfNw[np.argmin(jointProb)])"
   ]
  },
  {
   "cell_type": "code",
   "execution_count": null,
   "metadata": {},
   "outputs": [],
   "source": []
  }
 ],
 "metadata": {
  "kernelspec": {
   "display_name": "Python 3",
   "language": "python",
   "name": "python3"
  },
  "language_info": {
   "codemirror_mode": {
    "name": "ipython",
    "version": 3
   },
   "file_extension": ".py",
   "mimetype": "text/x-python",
   "name": "python",
   "nbconvert_exporter": "python",
   "pygments_lexer": "ipython3",
   "version": "3.6.5"
  }
 },
 "nbformat": 4,
 "nbformat_minor": 2
}
